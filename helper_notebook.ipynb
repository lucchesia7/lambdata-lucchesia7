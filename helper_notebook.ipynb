{
 "cells": [
  {
   "cell_type": "code",
   "execution_count": 1,
   "id": "ecbff1bf-4f87-41c9-886b-0dc26adb521a",
   "metadata": {},
   "outputs": [],
   "source": [
    "from helper_functions import null_count, tts\n",
    "import pandas as pd\n",
    "import numpy as np\n",
    "#from sklearn.model_selection import train_test_split"
   ]
  },
  {
   "cell_type": "code",
   "execution_count": 2,
   "id": "39cb7fc1-c69c-4250-ae43-f419c9496227",
   "metadata": {},
   "outputs": [],
   "source": [
    "df = pd.read_csv('http://archive.ics.uci.edu/ml/machine-learning-databases/autos/imports-85.data')"
   ]
  },
  {
   "cell_type": "code",
   "execution_count": 3,
   "id": "6ad019fe-e9f9-4793-8daf-b9dc5a0f578b",
   "metadata": {},
   "outputs": [
    {
     "data": {
      "text/plain": [
       "0"
      ]
     },
     "execution_count": 3,
     "metadata": {},
     "output_type": "execute_result"
    }
   ],
   "source": [
    "null_count(df)"
   ]
  },
  {
   "cell_type": "code",
   "execution_count": 4,
   "id": "301a41ab-6417-49b1-9435-721d7cdb6094",
   "metadata": {},
   "outputs": [
    {
     "data": {
      "text/plain": [
       "[     3    ?    alfa-romero     gas    std   two convertible  rwd  front  \\\n",
       " 10   0  192            bmw     gas    std  four       sedan  rwd  front   \n",
       " 130  2    ?        renault     gas    std   two   hatchback  fwd  front   \n",
       " 80   3  153     mitsubishi     gas    std   two   hatchback  fwd  front   \n",
       " 123  3    ?       plymouth     gas  turbo   two   hatchback  rwd  front   \n",
       " 73   1    ?  mercedes-benz     gas    std   two     hardtop  rwd  front   \n",
       " ..  ..  ...            ...     ...    ...   ...         ...  ...    ...   \n",
       " 47   0    ?         jaguar     gas    std  four       sedan  rwd  front   \n",
       " 67  -1   93  mercedes-benz  diesel  turbo  four       wagon  rwd  front   \n",
       " 90   1  128         nissan     gas    std   two       sedan  fwd  front   \n",
       " 99   0  106         nissan     gas    std  four       sedan  fwd  front   \n",
       " 83   3    ?     mitsubishi     gas  turbo   two   hatchback  fwd  front   \n",
       " \n",
       "      88.60  ...  130  mpfi  3.47  2.68  9.00  111  5000  21  27  13495  \n",
       " 10   101.2  ...  108  mpfi  3.50  2.80   8.8  101  5800  23  29  16925  \n",
       " 130   96.1  ...  132  mpfi  3.46  3.90   8.7    ?     ?  23  31   9895  \n",
       " 80    96.3  ...  122  2bbl  3.35  3.46   8.5   88  5000  25  32   8499  \n",
       " 123   95.9  ...  156  spdi  3.59  3.86   7.0  145  5000  19  24  12764  \n",
       " 73   112.0  ...  304  mpfi  3.80  3.35   8.0  184  4500  14  16  45400  \n",
       " ..     ...  ...  ...   ...   ...   ...   ...  ...   ...  ..  ..    ...  \n",
       " 47   113.0  ...  258  mpfi  3.63  4.17   8.1  176  4750  15  19  35550  \n",
       " 67   110.0  ...  183   idi  3.58  3.64  21.5  123  4350  22  25  28248  \n",
       " 90    94.5  ...   97  2bbl  3.15  3.29   9.4   69  5200  31  37   6649  \n",
       " 99    97.2  ...  120  2bbl  3.33  3.47   8.5   97  5200  27  34   9549  \n",
       " 83    95.9  ...  156  spdi  3.59  3.86   7.0  145  5000  19  24  14489  \n",
       " \n",
       " [153 rows x 26 columns],\n",
       "      3    ?    alfa-romero     gas    std   two  convertible  rwd  front  \\\n",
       " 199 -1   95          volvo     gas    std  four        sedan  rwd  front   \n",
       " 192  0    ?     volkswagen     gas    std  four        wagon  fwd  front   \n",
       " 95   1  122         nissan     gas    std  four        sedan  fwd  front   \n",
       " 93   1  128         nissan     gas    std   two        sedan  fwd  front   \n",
       " 198 -1   74          volvo     gas  turbo  four        wagon  rwd  front   \n",
       " 29   2  137          honda     gas    std   two    hatchback  fwd  front   \n",
       " 71   3  142  mercedes-benz     gas    std   two  convertible  rwd  front   \n",
       " 52   1  113          mazda     gas    std  four        sedan  fwd  front   \n",
       " 161  0   91         toyota     gas    std  four        sedan  fwd  front   \n",
       " 12   0  188            bmw     gas    std  four        sedan  rwd  front   \n",
       " 69  -1   93  mercedes-benz  diesel  turbo  four        sedan  rwd  front   \n",
       " 202 -1   95          volvo  diesel  turbo  four        sedan  rwd  front   \n",
       " 117  1  119       plymouth     gas    std   two    hatchback  fwd  front   \n",
       " 162  1  168         toyota     gas    std   two        sedan  rwd  front   \n",
       " 135  3  150           saab     gas  turbo   two    hatchback  fwd  front   \n",
       " 30   2  137          honda     gas    std   two    hatchback  fwd  front   \n",
       " 165  1  168         toyota     gas    std   two    hatchback  rwd  front   \n",
       " 60   1  129          mazda     gas    std   two    hatchback  fwd  front   \n",
       " 114  0  161         peugot     gas    std  four        sedan  rwd  front   \n",
       " 112  0    ?         peugot     gas    std  four        wagon  rwd  front   \n",
       " 139  2   83         subaru     gas    std   two    hatchback  4wd  front   \n",
       " 186  2   94     volkswagen  diesel  turbo  four        sedan  fwd  front   \n",
       " 18   1   98      chevrolet     gas    std   two    hatchback  fwd  front   \n",
       " 17   2  121      chevrolet     gas    std   two    hatchback  fwd  front   \n",
       " 64   0  118          mazda     gas    std  four        sedan  rwd  front   \n",
       " 201 -1   95          volvo     gas    std  four        sedan  rwd  front   \n",
       " 26   1  148          dodge     gas  turbo     ?        sedan  fwd  front   \n",
       " 53   1  113          mazda     gas    std  four        sedan  fwd  front   \n",
       " 172 -1   65         toyota     gas    std  four        sedan  fwd  front   \n",
       " 85   1  125     mitsubishi     gas    std  four        sedan  fwd  front   \n",
       " 118  1  119       plymouth     gas  turbo   two    hatchback  fwd  front   \n",
       " 181  2  122     volkswagen  diesel    std   two        sedan  fwd  front   \n",
       " 174 -1   65         toyota     gas    std  four    hatchback  fwd  front   \n",
       " 101  0  108         nissan     gas    std  four        wagon  fwd  front   \n",
       " 88   1  128         nissan     gas    std   two        sedan  fwd  front   \n",
       " 68   0   93  mercedes-benz  diesel  turbo   two      hardtop  rwd  front   \n",
       " 5    1  158           audi     gas    std  four        sedan  fwd  front   \n",
       " 42   0    ?          isuzu     gas    std  four        sedan  rwd  front   \n",
       " 2    2  164           audi     gas    std  four        sedan  fwd  front   \n",
       " 121  1  154       plymouth     gas    std  four        sedan  fwd  front   \n",
       " 86   1  125     mitsubishi     gas  turbo  four        sedan  fwd  front   \n",
       " 197 -2  103          volvo     gas  turbo  four        sedan  rwd  front   \n",
       " 98   0  106         nissan     gas    std  four    hatchback  fwd  front   \n",
       " 4    2    ?           audi     gas    std   two        sedan  fwd  front   \n",
       " 15   0    ?            bmw     gas    std   two        sedan  rwd  front   \n",
       " 169  2  134         toyota     gas    std   two      hardtop  rwd  front   \n",
       " 185  2   94     volkswagen     gas    std  four        sedan  fwd  front   \n",
       " 151  1   74         toyota     gas    std  four    hatchback  fwd  front   \n",
       " 131  3  150           saab     gas    std   two    hatchback  fwd  front   \n",
       " 75   2  161     mitsubishi     gas    std   two    hatchback  fwd  front   \n",
       " 1    1    ?    alfa-romero     gas    std   two    hatchback  rwd  front   \n",
       " \n",
       "      88.60  ...  130  mpfi  3.47  2.68   9.00  111  5000  21  27  13495  \n",
       " 199  109.1  ...  141  mpfi  3.78  3.15   9.50  114  5400  23  28  16845  \n",
       " 192  100.4  ...  109  mpfi  3.19  3.40   9.00   88  5500  25  31  12290  \n",
       " 95    94.5  ...   97  2bbl  3.15  3.29   9.40   69  5200  31  37   7499  \n",
       " 93    94.5  ...   97  2bbl  3.15  3.29   9.40   69  5200  31  37   7299  \n",
       " 198  104.3  ...  130  mpfi  3.62  3.15   7.50  162  5100  17  22  18950  \n",
       " 29    86.6  ...   92  1bbl  2.91  3.41   9.60   58  4800  49  54   6479  \n",
       " 71    96.6  ...  234  mpfi  3.46  3.10   8.30  155  4750  16  18  35056  \n",
       " 52    93.1  ...   91  2bbl  3.03  3.15   9.00   68  5000  31  38   6695  \n",
       " 161   95.7  ...   98  2bbl  3.19  3.03   9.00   70  4800  28  34   9258  \n",
       " 12   101.2  ...  164  mpfi  3.31  3.19   9.00  121  4250  21  28  21105  \n",
       " 69   115.6  ...  183   idi  3.58  3.64  21.50  123  4350  22  25  31600  \n",
       " 202  109.1  ...  145   idi  3.01  3.40  23.00  106  4800  26  27  22470  \n",
       " 117   93.7  ...   90  2bbl  2.97  3.23   9.40   68  5500  37  41   5572  \n",
       " 162   94.5  ...   98  2bbl  3.19  3.03   9.00   70  4800  29  34   8058  \n",
       " 135   99.1  ...  121  mpfi  3.54  3.07   9.00  160  5500  19  26  18150  \n",
       " 30    86.6  ...   92  1bbl  2.91  3.41   9.20   76  6000  31  38   6855  \n",
       " 165   94.5  ...   98  mpfi  3.24  3.08   9.40  112  6600  26  29   9538  \n",
       " 60    98.8  ...  122  2bbl  3.39  3.39   8.60   84  4800  26  32  10595  \n",
       " 114  107.9  ...  120  mpfi  3.46  3.19   8.40   97  5000  19  24  16630  \n",
       " 112  114.2  ...  120  mpfi  3.46  2.19   8.40   95  5000  19  24  16695  \n",
       " 139   93.3  ...  108  2bbl  3.62  2.64   8.70   73  4400  26  31   7603  \n",
       " 186   97.3  ...   97   idi  3.01  3.40  23.00   68  4500  37  42   9495  \n",
       " 18    94.5  ...   90  2bbl  3.03  3.11   9.60   70  5400  38  43   6295  \n",
       " 17    88.4  ...   61  2bbl  2.91  3.03   9.50   48  5100  47  53   5151  \n",
       " 64   104.9  ...  140  mpfi  3.76  3.16   8.00  120  5000  19  27  18280  \n",
       " 201  109.1  ...  173  mpfi  3.58  2.87   8.80  134  5500  18  23  21485  \n",
       " 26    93.7  ...   98  mpfi  3.03  3.39   7.60  102  5500  24  30   8558  \n",
       " 53    93.1  ...   91  2bbl  3.08  3.15   9.00   68  5000  31  38   7395  \n",
       " 172  102.4  ...  122  mpfi  3.31  3.54   8.70   92  4200  29  34   8948  \n",
       " 85    96.3  ...  122  2bbl  3.35  3.46   8.50   88  5000  25  32   8189  \n",
       " 118   93.7  ...   98  spdi  3.03  3.39   7.60  102  5500  24  30   7957  \n",
       " 181   97.3  ...   97   idi  3.01  3.40  23.00   52  4800  37  46   7775  \n",
       " 174  102.4  ...  122  mpfi  3.31  3.54   8.70   92  4200  27  32   9988  \n",
       " 101  100.4  ...  181  mpfi  3.43  3.27   9.00  152  5200  17  22  14399  \n",
       " 88    94.5  ...   97  2bbl  3.15  3.29   9.40   69  5200  31  37   5499  \n",
       " 68   106.7  ...  183   idi  3.58  3.64  21.50  123  4350  22  25  28176  \n",
       " 5    105.8  ...  136  mpfi  3.19  3.40   8.50  110  5500  19  25  17710  \n",
       " 42    94.3  ...  111  2bbl  3.31  3.23   8.50   78  4800  24  29   6785  \n",
       " 2     99.8  ...  109  mpfi  3.19  3.40  10.00  102  5500  24  30  13950  \n",
       " 121   93.7  ...   98  2bbl  2.97  3.23   9.40   68  5500  31  38   7609  \n",
       " 86    96.3  ...  110  spdi  3.17  3.46   7.50  116  5500  23  30   9279  \n",
       " 197  104.3  ...  130  mpfi  3.62  3.15   7.50  162  5100  17  22  18420  \n",
       " 98    97.2  ...  120  2bbl  3.33  3.47   8.50   97  5200  27  34   8949  \n",
       " 4     99.8  ...  136  mpfi  3.19  3.40   8.50  110  5500  19  25  15250  \n",
       " 15   103.5  ...  209  mpfi  3.62  3.39   8.00  182  5400  16  22  41315  \n",
       " 169   98.4  ...  146  mpfi  3.62  3.50   9.30  116  4800  24  30  11199  \n",
       " 185   97.3  ...  109  mpfi  3.19  3.40   9.00   85  5250  27  34   8495  \n",
       " 151   95.7  ...   92  2bbl  3.05  3.03   9.00   62  4800  31  38   6488  \n",
       " 131   99.1  ...  121  mpfi  3.54  3.07   9.31  110  5250  21  28  11850  \n",
       " 75    93.7  ...   92  2bbl  2.97  3.23   9.40   68  5500  37  41   5389  \n",
       " 1     94.5  ...  152  mpfi  2.68  3.47   9.00  154  5000  19  26  16500  \n",
       " \n",
       " [51 rows x 26 columns]]"
      ]
     },
     "execution_count": 4,
     "metadata": {},
     "output_type": "execute_result"
    }
   ],
   "source": [
    "tts(df, frac = 0.1)"
   ]
  },
  {
   "cell_type": "code",
   "execution_count": null,
   "id": "c48d0004-bfb3-46e0-95a1-dd06b6866fb4",
   "metadata": {},
   "outputs": [],
   "source": []
  }
 ],
 "metadata": {
  "kernelspec": {
   "display_name": "Python 3 (ipykernel)",
   "language": "python",
   "name": "python3"
  },
  "language_info": {
   "codemirror_mode": {
    "name": "ipython",
    "version": 3
   },
   "file_extension": ".py",
   "mimetype": "text/x-python",
   "name": "python",
   "nbconvert_exporter": "python",
   "pygments_lexer": "ipython3",
   "version": "3.9.5"
  }
 },
 "nbformat": 4,
 "nbformat_minor": 5
}
